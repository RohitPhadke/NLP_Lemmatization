{
  "nbformat": 4,
  "nbformat_minor": 0,
  "metadata": {
    "colab": {
      "name": "NLP_Lemmatization.ipynb",
      "provenance": []
    },
    "kernelspec": {
      "name": "python3",
      "display_name": "Python 3"
    }
  },
  "cells": [
    {
      "cell_type": "markdown",
      "metadata": {
        "id": "24m88U60VN8G",
        "colab_type": "text"
      },
      "source": [
        "##**Importing nltk library for language processing**"
      ]
    },
    {
      "cell_type": "code",
      "metadata": {
        "id": "eliimiZ3Ug-W",
        "colab_type": "code",
        "colab": {}
      },
      "source": [
        "import nltk  # Library for language processing\n",
        "from nltk.corpus import stopwords # Libraring to remove stopwords\n",
        "from nltk.stem import WordNetLemmatizer # Library for Lemmatization\n",
        "nltk.download('punkt')\n",
        "nltk.download('stopwords')\n",
        "nltk.download('wordnet')"
      ],
      "execution_count": 0,
      "outputs": []
    },
    {
      "cell_type": "code",
      "metadata": {
        "id": "JNUN7KFhWiEL",
        "colab_type": "code",
        "colab": {}
      },
      "source": [
        "paragraph = \"\"\"The Republic of India is a country in Asia. It has an area of 3,287,263 square kilometres (1,269,219 sq mi). It is at the center of South Asia. India has more than 1.2 billion (1,210,000,000) people, which is the second largest population in the world. It is the seventh largest country in the world by area and the largest country in South Asia. It is also the most populous democracy in the world.\n",
        "\n",
        "India has seven neighbours: Pakistan in the north-west, China and Nepal in the north, Bhutan and Bangladesh in the north-east, Myanmar in the east and Sri Lanka, an island, in the south.\n",
        "\n",
        "The capital of India is New Delhi. India is a peninsula, bound by the Indian Ocean in the south, the Arabian Sea on the west and Bay of Bengal in the east. The coastline of India is of about 7,517 km (4,671 mi) long. India has the third largest military force in the world and is also a nuclear weapon state.\n",
        "\n",
        "India's economy became the world's fastest growing in the G20 developing nations in the last quarter of 2014, replacing the People's Republic of China. India's literacy and wealth are also rising.According to New World Wealth, India is the seventh richest country in the world with a total individual wealth of $5.6 trillion. However, it still has many social and economic issues like poverty and corruption. India is a founding member of the World Trade Organisation (WTO), and has signed the Kyoto Protocol.\n",
        "\n",
        "India has the fourth largest number of spoken languages per country in the world, only behind Papua New Guinea, Indonesia, and Nigeria. People of many different religions live there, including the five most popular world religions: Hinduism, Buddhism, Sikhism, Islam, and Christianity. The first three religions came from the Indian subcontinent along with Jainism.\"\"\""
      ],
      "execution_count": 0,
      "outputs": []
    },
    {
      "cell_type": "markdown",
      "metadata": {
        "id": "1W-XEIGBW3C3",
        "colab_type": "text"
      },
      "source": [
        "###**Tokenization of paragraph into sentences and initializing a Lemmatization object**"
      ]
    },
    {
      "cell_type": "code",
      "metadata": {
        "id": "xx9RWOF8Wo4z",
        "colab_type": "code",
        "colab": {}
      },
      "source": [
        "sentence = nltk.sent_tokenize(paragraph)\n",
        "lemmatizer = WordNetLemmatizer()"
      ],
      "execution_count": 0,
      "outputs": []
    },
    {
      "cell_type": "code",
      "metadata": {
        "id": "J53slWhFXvT_",
        "colab_type": "code",
        "colab": {
          "base_uri": "https://localhost:8080/",
          "height": 35
        },
        "outputId": "a417ccab-a50a-4701-9fd9-50b71dd08c54"
      },
      "source": [
        "len(sentence) # There are 18 sentences in our paragraph"
      ],
      "execution_count": 22,
      "outputs": [
        {
          "output_type": "execute_result",
          "data": {
            "text/plain": [
              "18"
            ]
          },
          "metadata": {
            "tags": []
          },
          "execution_count": 22
        }
      ]
    },
    {
      "cell_type": "markdown",
      "metadata": {
        "id": "20aKi93eYBeY",
        "colab_type": "text"
      },
      "source": [
        "##**Lemmatization**"
      ]
    },
    {
      "cell_type": "code",
      "metadata": {
        "id": "r1kqlIM5XCzL",
        "colab_type": "code",
        "colab": {}
      },
      "source": [
        "for i in range(len(sentence)):\n",
        "  words = nltk.word_tokenize(sentence[i])\n",
        "  words = [lemmatizer.lemmatize(word) for word in words if word not in set(stopwords.words('english'))]\n",
        "  sentence[i] = ' '.join(words)"
      ],
      "execution_count": 0,
      "outputs": []
    },
    {
      "cell_type": "code",
      "metadata": {
        "id": "FXKAaKQtXcKN",
        "colab_type": "code",
        "colab": {
          "base_uri": "https://localhost:8080/",
          "height": 337
        },
        "outputId": "fbe076e0-ca3f-4f17-80aa-62d1387a9849"
      },
      "source": [
        "sentence"
      ],
      "execution_count": 24,
      "outputs": [
        {
          "output_type": "execute_result",
          "data": {
            "text/plain": [
              "['The Republic India country Asia .',\n",
              " 'It area 3,287,263 square kilometre ( 1,269,219 sq mi ) .',\n",
              " 'It center South Asia .',\n",
              " 'India 1.2 billion ( 1,210,000,000 ) people , second largest population world .',\n",
              " 'It seventh largest country world area largest country South Asia .',\n",
              " 'It also populous democracy world .',\n",
              " 'India seven neighbour : Pakistan north-west , China Nepal north , Bhutan Bangladesh north-east , Myanmar east Sri Lanka , island , south .',\n",
              " 'The capital India New Delhi .',\n",
              " 'India peninsula , bound Indian Ocean south , Arabian Sea west Bay Bengal east .',\n",
              " 'The coastline India 7,517 km ( 4,671 mi ) long .',\n",
              " 'India third largest military force world also nuclear weapon state .',\n",
              " \"India 's economy became world 's fastest growing G20 developing nation last quarter 2014 , replacing People 's Republic China .\",\n",
              " \"India 's literacy wealth also rising.According New World Wealth , India seventh richest country world total individual wealth $ 5.6 trillion .\",\n",
              " 'However , still many social economic issue like poverty corruption .',\n",
              " 'India founding member World Trade Organisation ( WTO ) , signed Kyoto Protocol .',\n",
              " 'India fourth largest number spoken language per country world , behind Papua New Guinea , Indonesia , Nigeria .',\n",
              " 'People many different religion live , including five popular world religion : Hinduism , Buddhism , Sikhism , Islam , Christianity .',\n",
              " 'The first three religion came Indian subcontinent along Jainism .']"
            ]
          },
          "metadata": {
            "tags": []
          },
          "execution_count": 24
        }
      ]
    }
  ]
}